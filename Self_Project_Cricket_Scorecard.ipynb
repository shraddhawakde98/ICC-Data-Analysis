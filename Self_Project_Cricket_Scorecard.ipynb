{
  "nbformat": 4,
  "nbformat_minor": 0,
  "metadata": {
    "colab": {
      "name": "Self Project - Cricket Scorecard.ipynb",
      "provenance": [],
      "authorship_tag": "ABX9TyPDQ+nAB9eRspHV63DgKYjp",
      "include_colab_link": true
    },
    "kernelspec": {
      "name": "python3",
      "display_name": "Python 3"
    },
    "language_info": {
      "name": "python"
    }
  },
  "cells": [
    {
      "cell_type": "markdown",
      "metadata": {
        "id": "view-in-github",
        "colab_type": "text"
      },
      "source": [
        "<a href=\"https://colab.research.google.com/github/shraddhawakde98/ICC-Data-Analysis/blob/main/Self_Project_Cricket_Scorecard.ipynb\" target=\"_parent\"><img src=\"https://colab.research.google.com/assets/colab-badge.svg\" alt=\"Open In Colab\"/></a>"
      ]
    },
    {
      "cell_type": "markdown",
      "source": [
        "### **The data consists of 1417 T20 matches. Each row corresponds to a single T20 match. The main objective is to get the scorecard of each match. The function would take the innings value as argument and return two scorecard dataframes each for one team as shown below. So the first dataframe would contain the top 4 scorers of the team who batted first and the top 4 bowlers of the opponent team. And the second dataframe would contain the top 4 scorers of the team who batted second and the top 4 bowlers of the opponent team.**"
      ],
      "metadata": {
        "id": "QMJFmGw7Sxvy"
      }
    },
    {
      "cell_type": "code",
      "execution_count": 1,
      "metadata": {
        "id": "bX74-K20Cs8P"
      },
      "outputs": [],
      "source": [
        "#Importing necessary libraries\n",
        "import pandas as pd\n",
        "import numpy as np\n",
        "import matplotlib.pyplot as plt\n",
        "%matplotlib inline\n",
        "import seaborn as sns\n",
        "from ast import literal_eval"
      ]
    },
    {
      "cell_type": "code",
      "source": [
        "#Mounting the google drive\n",
        "from google.colab import drive\n",
        "drive.mount('/content/drive')"
      ],
      "metadata": {
        "colab": {
          "base_uri": "https://localhost:8080/"
        },
        "id": "zCbqfSwbTxfL",
        "outputId": "537d4822-6a8b-4f50-9148-fdd0083c60c2"
      },
      "execution_count": 2,
      "outputs": [
        {
          "output_type": "stream",
          "name": "stdout",
          "text": [
            "Mounted at /content/drive\n"
          ]
        }
      ]
    },
    {
      "cell_type": "code",
      "source": [
        "#Reading the csv file from the drive\n",
        "working_directory = '/content/drive/MyDrive/Amabetter/Module 1 : Python for Data Science/ Projects and Assessments - 3/dat/'\n",
        "df = pd.read_csv(working_directory + 'International_T20_Data.csv')"
      ],
      "metadata": {
        "id": "VlAg-nkvWoFy"
      },
      "execution_count": 6,
      "outputs": []
    },
    {
      "cell_type": "code",
      "source": [
        "df.head()"
      ],
      "metadata": {
        "colab": {
          "base_uri": "https://localhost:8080/",
          "height": 681
        },
        "id": "5ONMOIYzWzQh",
        "outputId": "4c4b419e-9444-4cc7-b351-1249a0fa57cd"
      },
      "execution_count": 7,
      "outputs": [
        {
          "output_type": "execute_result",
          "data": {
            "text/plain": [
              "                                             innings  meta.data_version  \\\n",
              "0  [{'1st innings': {'team': 'Australia', 'delive...                0.9   \n",
              "1  [{'1st innings': {'team': 'Australia', 'delive...                0.9   \n",
              "2  [{'1st innings': {'team': 'Australia', 'delive...                0.9   \n",
              "3  [{'1st innings': {'team': 'Hong Kong', 'delive...                0.9   \n",
              "4  [{'1st innings': {'team': 'Zimbabwe', 'deliver...                0.9   \n",
              "\n",
              "  meta.created  meta.revision                    info.dates info.gender  \\\n",
              "0   2017-02-18              2  [datetime.date(2017, 2, 17)]        male   \n",
              "1   2017-02-19              2  [datetime.date(2017, 2, 19)]        male   \n",
              "2   2017-02-23              1  [datetime.date(2017, 2, 22)]        male   \n",
              "3   2016-09-12              1   [datetime.date(2016, 9, 5)]        male   \n",
              "4   2016-06-19              1  [datetime.date(2016, 6, 18)]        male   \n",
              "\n",
              "  info.match_type  info.outcome.by.wickets info.outcome.winner  info.overs  \\\n",
              "0             T20                      5.0           Sri Lanka          20   \n",
              "1             T20                      2.0           Sri Lanka          20   \n",
              "2             T20                      NaN           Australia          20   \n",
              "3             T20                      NaN           Hong Kong          20   \n",
              "4             T20                      NaN            Zimbabwe          20   \n",
              "\n",
              "   ... info.outcome.by.runs info.match_type_number info.neutral_venue  \\\n",
              "0  ...                  NaN                    NaN                NaN   \n",
              "1  ...                  NaN                    NaN                NaN   \n",
              "2  ...                 41.0                    NaN                NaN   \n",
              "3  ...                 40.0                    NaN                NaN   \n",
              "4  ...                  2.0                    NaN                NaN   \n",
              "\n",
              "  info.outcome.method info.outcome.result info.outcome.eliminator  \\\n",
              "0                 NaN                 NaN                     NaN   \n",
              "1                 NaN                 NaN                     NaN   \n",
              "2                 NaN                 NaN                     NaN   \n",
              "3                 NaN                 NaN                     NaN   \n",
              "4                 NaN                 NaN                     NaN   \n",
              "\n",
              "  info.supersubs.New Zealand  info.supersubs.South Africa  info.bowl_out  \\\n",
              "0                        NaN                          NaN            NaN   \n",
              "1                        NaN                          NaN            NaN   \n",
              "2                        NaN                          NaN            NaN   \n",
              "3                        NaN                          NaN            NaN   \n",
              "4                        NaN                          NaN            NaN   \n",
              "\n",
              "   info.outcome.bowl_out  \n",
              "0                    NaN  \n",
              "1                    NaN  \n",
              "2                    NaN  \n",
              "3                    NaN  \n",
              "4                    NaN  \n",
              "\n",
              "[5 rows x 27 columns]"
            ],
            "text/html": [
              "\n",
              "  <div id=\"df-c11271be-43a3-4946-84c3-e649a5c911bf\">\n",
              "    <div class=\"colab-df-container\">\n",
              "      <div>\n",
              "<style scoped>\n",
              "    .dataframe tbody tr th:only-of-type {\n",
              "        vertical-align: middle;\n",
              "    }\n",
              "\n",
              "    .dataframe tbody tr th {\n",
              "        vertical-align: top;\n",
              "    }\n",
              "\n",
              "    .dataframe thead th {\n",
              "        text-align: right;\n",
              "    }\n",
              "</style>\n",
              "<table border=\"1\" class=\"dataframe\">\n",
              "  <thead>\n",
              "    <tr style=\"text-align: right;\">\n",
              "      <th></th>\n",
              "      <th>innings</th>\n",
              "      <th>meta.data_version</th>\n",
              "      <th>meta.created</th>\n",
              "      <th>meta.revision</th>\n",
              "      <th>info.dates</th>\n",
              "      <th>info.gender</th>\n",
              "      <th>info.match_type</th>\n",
              "      <th>info.outcome.by.wickets</th>\n",
              "      <th>info.outcome.winner</th>\n",
              "      <th>info.overs</th>\n",
              "      <th>...</th>\n",
              "      <th>info.outcome.by.runs</th>\n",
              "      <th>info.match_type_number</th>\n",
              "      <th>info.neutral_venue</th>\n",
              "      <th>info.outcome.method</th>\n",
              "      <th>info.outcome.result</th>\n",
              "      <th>info.outcome.eliminator</th>\n",
              "      <th>info.supersubs.New Zealand</th>\n",
              "      <th>info.supersubs.South Africa</th>\n",
              "      <th>info.bowl_out</th>\n",
              "      <th>info.outcome.bowl_out</th>\n",
              "    </tr>\n",
              "  </thead>\n",
              "  <tbody>\n",
              "    <tr>\n",
              "      <th>0</th>\n",
              "      <td>[{'1st innings': {'team': 'Australia', 'delive...</td>\n",
              "      <td>0.9</td>\n",
              "      <td>2017-02-18</td>\n",
              "      <td>2</td>\n",
              "      <td>[datetime.date(2017, 2, 17)]</td>\n",
              "      <td>male</td>\n",
              "      <td>T20</td>\n",
              "      <td>5.0</td>\n",
              "      <td>Sri Lanka</td>\n",
              "      <td>20</td>\n",
              "      <td>...</td>\n",
              "      <td>NaN</td>\n",
              "      <td>NaN</td>\n",
              "      <td>NaN</td>\n",
              "      <td>NaN</td>\n",
              "      <td>NaN</td>\n",
              "      <td>NaN</td>\n",
              "      <td>NaN</td>\n",
              "      <td>NaN</td>\n",
              "      <td>NaN</td>\n",
              "      <td>NaN</td>\n",
              "    </tr>\n",
              "    <tr>\n",
              "      <th>1</th>\n",
              "      <td>[{'1st innings': {'team': 'Australia', 'delive...</td>\n",
              "      <td>0.9</td>\n",
              "      <td>2017-02-19</td>\n",
              "      <td>2</td>\n",
              "      <td>[datetime.date(2017, 2, 19)]</td>\n",
              "      <td>male</td>\n",
              "      <td>T20</td>\n",
              "      <td>2.0</td>\n",
              "      <td>Sri Lanka</td>\n",
              "      <td>20</td>\n",
              "      <td>...</td>\n",
              "      <td>NaN</td>\n",
              "      <td>NaN</td>\n",
              "      <td>NaN</td>\n",
              "      <td>NaN</td>\n",
              "      <td>NaN</td>\n",
              "      <td>NaN</td>\n",
              "      <td>NaN</td>\n",
              "      <td>NaN</td>\n",
              "      <td>NaN</td>\n",
              "      <td>NaN</td>\n",
              "    </tr>\n",
              "    <tr>\n",
              "      <th>2</th>\n",
              "      <td>[{'1st innings': {'team': 'Australia', 'delive...</td>\n",
              "      <td>0.9</td>\n",
              "      <td>2017-02-23</td>\n",
              "      <td>1</td>\n",
              "      <td>[datetime.date(2017, 2, 22)]</td>\n",
              "      <td>male</td>\n",
              "      <td>T20</td>\n",
              "      <td>NaN</td>\n",
              "      <td>Australia</td>\n",
              "      <td>20</td>\n",
              "      <td>...</td>\n",
              "      <td>41.0</td>\n",
              "      <td>NaN</td>\n",
              "      <td>NaN</td>\n",
              "      <td>NaN</td>\n",
              "      <td>NaN</td>\n",
              "      <td>NaN</td>\n",
              "      <td>NaN</td>\n",
              "      <td>NaN</td>\n",
              "      <td>NaN</td>\n",
              "      <td>NaN</td>\n",
              "    </tr>\n",
              "    <tr>\n",
              "      <th>3</th>\n",
              "      <td>[{'1st innings': {'team': 'Hong Kong', 'delive...</td>\n",
              "      <td>0.9</td>\n",
              "      <td>2016-09-12</td>\n",
              "      <td>1</td>\n",
              "      <td>[datetime.date(2016, 9, 5)]</td>\n",
              "      <td>male</td>\n",
              "      <td>T20</td>\n",
              "      <td>NaN</td>\n",
              "      <td>Hong Kong</td>\n",
              "      <td>20</td>\n",
              "      <td>...</td>\n",
              "      <td>40.0</td>\n",
              "      <td>NaN</td>\n",
              "      <td>NaN</td>\n",
              "      <td>NaN</td>\n",
              "      <td>NaN</td>\n",
              "      <td>NaN</td>\n",
              "      <td>NaN</td>\n",
              "      <td>NaN</td>\n",
              "      <td>NaN</td>\n",
              "      <td>NaN</td>\n",
              "    </tr>\n",
              "    <tr>\n",
              "      <th>4</th>\n",
              "      <td>[{'1st innings': {'team': 'Zimbabwe', 'deliver...</td>\n",
              "      <td>0.9</td>\n",
              "      <td>2016-06-19</td>\n",
              "      <td>1</td>\n",
              "      <td>[datetime.date(2016, 6, 18)]</td>\n",
              "      <td>male</td>\n",
              "      <td>T20</td>\n",
              "      <td>NaN</td>\n",
              "      <td>Zimbabwe</td>\n",
              "      <td>20</td>\n",
              "      <td>...</td>\n",
              "      <td>2.0</td>\n",
              "      <td>NaN</td>\n",
              "      <td>NaN</td>\n",
              "      <td>NaN</td>\n",
              "      <td>NaN</td>\n",
              "      <td>NaN</td>\n",
              "      <td>NaN</td>\n",
              "      <td>NaN</td>\n",
              "      <td>NaN</td>\n",
              "      <td>NaN</td>\n",
              "    </tr>\n",
              "  </tbody>\n",
              "</table>\n",
              "<p>5 rows × 27 columns</p>\n",
              "</div>\n",
              "      <button class=\"colab-df-convert\" onclick=\"convertToInteractive('df-c11271be-43a3-4946-84c3-e649a5c911bf')\"\n",
              "              title=\"Convert this dataframe to an interactive table.\"\n",
              "              style=\"display:none;\">\n",
              "        \n",
              "  <svg xmlns=\"http://www.w3.org/2000/svg\" height=\"24px\"viewBox=\"0 0 24 24\"\n",
              "       width=\"24px\">\n",
              "    <path d=\"M0 0h24v24H0V0z\" fill=\"none\"/>\n",
              "    <path d=\"M18.56 5.44l.94 2.06.94-2.06 2.06-.94-2.06-.94-.94-2.06-.94 2.06-2.06.94zm-11 1L8.5 8.5l.94-2.06 2.06-.94-2.06-.94L8.5 2.5l-.94 2.06-2.06.94zm10 10l.94 2.06.94-2.06 2.06-.94-2.06-.94-.94-2.06-.94 2.06-2.06.94z\"/><path d=\"M17.41 7.96l-1.37-1.37c-.4-.4-.92-.59-1.43-.59-.52 0-1.04.2-1.43.59L10.3 9.45l-7.72 7.72c-.78.78-.78 2.05 0 2.83L4 21.41c.39.39.9.59 1.41.59.51 0 1.02-.2 1.41-.59l7.78-7.78 2.81-2.81c.8-.78.8-2.07 0-2.86zM5.41 20L4 18.59l7.72-7.72 1.47 1.35L5.41 20z\"/>\n",
              "  </svg>\n",
              "      </button>\n",
              "      \n",
              "  <style>\n",
              "    .colab-df-container {\n",
              "      display:flex;\n",
              "      flex-wrap:wrap;\n",
              "      gap: 12px;\n",
              "    }\n",
              "\n",
              "    .colab-df-convert {\n",
              "      background-color: #E8F0FE;\n",
              "      border: none;\n",
              "      border-radius: 50%;\n",
              "      cursor: pointer;\n",
              "      display: none;\n",
              "      fill: #1967D2;\n",
              "      height: 32px;\n",
              "      padding: 0 0 0 0;\n",
              "      width: 32px;\n",
              "    }\n",
              "\n",
              "    .colab-df-convert:hover {\n",
              "      background-color: #E2EBFA;\n",
              "      box-shadow: 0px 1px 2px rgba(60, 64, 67, 0.3), 0px 1px 3px 1px rgba(60, 64, 67, 0.15);\n",
              "      fill: #174EA6;\n",
              "    }\n",
              "\n",
              "    [theme=dark] .colab-df-convert {\n",
              "      background-color: #3B4455;\n",
              "      fill: #D2E3FC;\n",
              "    }\n",
              "\n",
              "    [theme=dark] .colab-df-convert:hover {\n",
              "      background-color: #434B5C;\n",
              "      box-shadow: 0px 1px 3px 1px rgba(0, 0, 0, 0.15);\n",
              "      filter: drop-shadow(0px 1px 2px rgba(0, 0, 0, 0.3));\n",
              "      fill: #FFFFFF;\n",
              "    }\n",
              "  </style>\n",
              "\n",
              "      <script>\n",
              "        const buttonEl =\n",
              "          document.querySelector('#df-c11271be-43a3-4946-84c3-e649a5c911bf button.colab-df-convert');\n",
              "        buttonEl.style.display =\n",
              "          google.colab.kernel.accessAllowed ? 'block' : 'none';\n",
              "\n",
              "        async function convertToInteractive(key) {\n",
              "          const element = document.querySelector('#df-c11271be-43a3-4946-84c3-e649a5c911bf');\n",
              "          const dataTable =\n",
              "            await google.colab.kernel.invokeFunction('convertToInteractive',\n",
              "                                                     [key], {});\n",
              "          if (!dataTable) return;\n",
              "\n",
              "          const docLinkHtml = 'Like what you see? Visit the ' +\n",
              "            '<a target=\"_blank\" href=https://colab.research.google.com/notebooks/data_table.ipynb>data table notebook</a>'\n",
              "            + ' to learn more about interactive tables.';\n",
              "          element.innerHTML = '';\n",
              "          dataTable['output_type'] = 'display_data';\n",
              "          await google.colab.output.renderOutput(dataTable, element);\n",
              "          const docLink = document.createElement('div');\n",
              "          docLink.innerHTML = docLinkHtml;\n",
              "          element.appendChild(docLink);\n",
              "        }\n",
              "      </script>\n",
              "    </div>\n",
              "  </div>\n",
              "  "
            ]
          },
          "metadata": {},
          "execution_count": 7
        }
      ]
    },
    {
      "cell_type": "markdown",
      "source": [
        "### **Exploratory Data Analysis (EDA)**"
      ],
      "metadata": {
        "id": "sB5qvWuGW810"
      }
    },
    {
      "cell_type": "code",
      "source": [
        "df.info()"
      ],
      "metadata": {
        "colab": {
          "base_uri": "https://localhost:8080/"
        },
        "id": "yHMA8Aa9W6DR",
        "outputId": "d9981c2d-9c90-4465-cdb4-2987bfb664d4"
      },
      "execution_count": 8,
      "outputs": [
        {
          "output_type": "stream",
          "name": "stdout",
          "text": [
            "<class 'pandas.core.frame.DataFrame'>\n",
            "RangeIndex: 1417 entries, 0 to 1416\n",
            "Data columns (total 27 columns):\n",
            " #   Column                       Non-Null Count  Dtype  \n",
            "---  ------                       --------------  -----  \n",
            " 0   innings                      1417 non-null   object \n",
            " 1   meta.data_version            1417 non-null   float64\n",
            " 2   meta.created                 1417 non-null   object \n",
            " 3   meta.revision                1417 non-null   int64  \n",
            " 4   info.dates                   1417 non-null   object \n",
            " 5   info.gender                  1417 non-null   object \n",
            " 6   info.match_type              1417 non-null   object \n",
            " 7   info.outcome.by.wickets      651 non-null    float64\n",
            " 8   info.outcome.winner          1372 non-null   object \n",
            " 9   info.overs                   1417 non-null   int64  \n",
            " 10  info.player_of_match         1255 non-null   object \n",
            " 11  info.teams                   1417 non-null   object \n",
            " 12  info.toss.decision           1417 non-null   object \n",
            " 13  info.toss.winner             1417 non-null   object \n",
            " 14  info.umpires                 1395 non-null   object \n",
            " 15  info.venue                   1417 non-null   object \n",
            " 16  info.city                    1228 non-null   object \n",
            " 17  info.outcome.by.runs         721 non-null    float64\n",
            " 18  info.match_type_number       684 non-null    float64\n",
            " 19  info.neutral_venue           328 non-null    float64\n",
            " 20  info.outcome.method          51 non-null     object \n",
            " 21  info.outcome.result          45 non-null     object \n",
            " 22  info.outcome.eliminator      16 non-null     object \n",
            " 23  info.supersubs.New Zealand   1 non-null      object \n",
            " 24  info.supersubs.South Africa  1 non-null      object \n",
            " 25  info.bowl_out                2 non-null      object \n",
            " 26  info.outcome.bowl_out        2 non-null      object \n",
            "dtypes: float64(5), int64(2), object(20)\n",
            "memory usage: 299.0+ KB\n"
          ]
        }
      ]
    },
    {
      "cell_type": "markdown",
      "source": [
        "**Rename all the column names to their appropriate names, for example meta.data_version should be renamed as data_version**"
      ],
      "metadata": {
        "id": "-LlYjScOXTIW"
      }
    },
    {
      "cell_type": "code",
      "source": [
        "#first replace . with _ then it gives info_ and meta_ and replace them with ''\n",
        "df.columns = [ x.replace('.','_').replace('info_','').replace('meta_','') for x in list(df.columns)]"
      ],
      "metadata": {
        "id": "UDGjkUeEXLzU"
      },
      "execution_count": 9,
      "outputs": []
    },
    {
      "cell_type": "code",
      "source": [
        "df.columns "
      ],
      "metadata": {
        "colab": {
          "base_uri": "https://localhost:8080/"
        },
        "id": "t12Z5s_3XxQc",
        "outputId": "e1a09a35-4496-4b83-9c21-00c7134392e8"
      },
      "execution_count": 10,
      "outputs": [
        {
          "output_type": "execute_result",
          "data": {
            "text/plain": [
              "Index(['innings', 'data_version', 'created', 'revision', 'dates', 'gender',\n",
              "       'match_type', 'outcome_by_wickets', 'outcome_winner', 'overs',\n",
              "       'player_of_match', 'teams', 'toss_decision', 'toss_winner', 'umpires',\n",
              "       'venue', 'city', 'outcome_by_runs', 'match_type_number',\n",
              "       'neutral_venue', 'outcome_method', 'outcome_result',\n",
              "       'outcome_eliminator', 'supersubs_New Zealand', 'supersubs_South Africa',\n",
              "       'bowl_out', 'outcome_bowl_out'],\n",
              "      dtype='object')"
            ]
          },
          "metadata": {},
          "execution_count": 10
        }
      ]
    },
    {
      "cell_type": "code",
      "source": [
        "df.head(2)"
      ],
      "metadata": {
        "colab": {
          "base_uri": "https://localhost:8080/",
          "height": 362
        },
        "id": "yqEJn-n9Xz6q",
        "outputId": "0d28605e-fbc4-4a31-9bf0-c05e1ba47280"
      },
      "execution_count": 11,
      "outputs": [
        {
          "output_type": "execute_result",
          "data": {
            "text/plain": [
              "                                             innings  data_version  \\\n",
              "0  [{'1st innings': {'team': 'Australia', 'delive...           0.9   \n",
              "1  [{'1st innings': {'team': 'Australia', 'delive...           0.9   \n",
              "\n",
              "      created  revision                         dates gender match_type  \\\n",
              "0  2017-02-18         2  [datetime.date(2017, 2, 17)]   male        T20   \n",
              "1  2017-02-19         2  [datetime.date(2017, 2, 19)]   male        T20   \n",
              "\n",
              "   outcome_by_wickets outcome_winner  overs  ... outcome_by_runs  \\\n",
              "0                 5.0      Sri Lanka     20  ...             NaN   \n",
              "1                 2.0      Sri Lanka     20  ...             NaN   \n",
              "\n",
              "  match_type_number neutral_venue outcome_method outcome_result  \\\n",
              "0               NaN           NaN            NaN            NaN   \n",
              "1               NaN           NaN            NaN            NaN   \n",
              "\n",
              "  outcome_eliminator supersubs_New Zealand  supersubs_South Africa  bowl_out  \\\n",
              "0                NaN                   NaN                     NaN       NaN   \n",
              "1                NaN                   NaN                     NaN       NaN   \n",
              "\n",
              "   outcome_bowl_out  \n",
              "0               NaN  \n",
              "1               NaN  \n",
              "\n",
              "[2 rows x 27 columns]"
            ],
            "text/html": [
              "\n",
              "  <div id=\"df-9443eecd-82e1-4257-960f-b7e82b35b3ca\">\n",
              "    <div class=\"colab-df-container\">\n",
              "      <div>\n",
              "<style scoped>\n",
              "    .dataframe tbody tr th:only-of-type {\n",
              "        vertical-align: middle;\n",
              "    }\n",
              "\n",
              "    .dataframe tbody tr th {\n",
              "        vertical-align: top;\n",
              "    }\n",
              "\n",
              "    .dataframe thead th {\n",
              "        text-align: right;\n",
              "    }\n",
              "</style>\n",
              "<table border=\"1\" class=\"dataframe\">\n",
              "  <thead>\n",
              "    <tr style=\"text-align: right;\">\n",
              "      <th></th>\n",
              "      <th>innings</th>\n",
              "      <th>data_version</th>\n",
              "      <th>created</th>\n",
              "      <th>revision</th>\n",
              "      <th>dates</th>\n",
              "      <th>gender</th>\n",
              "      <th>match_type</th>\n",
              "      <th>outcome_by_wickets</th>\n",
              "      <th>outcome_winner</th>\n",
              "      <th>overs</th>\n",
              "      <th>...</th>\n",
              "      <th>outcome_by_runs</th>\n",
              "      <th>match_type_number</th>\n",
              "      <th>neutral_venue</th>\n",
              "      <th>outcome_method</th>\n",
              "      <th>outcome_result</th>\n",
              "      <th>outcome_eliminator</th>\n",
              "      <th>supersubs_New Zealand</th>\n",
              "      <th>supersubs_South Africa</th>\n",
              "      <th>bowl_out</th>\n",
              "      <th>outcome_bowl_out</th>\n",
              "    </tr>\n",
              "  </thead>\n",
              "  <tbody>\n",
              "    <tr>\n",
              "      <th>0</th>\n",
              "      <td>[{'1st innings': {'team': 'Australia', 'delive...</td>\n",
              "      <td>0.9</td>\n",
              "      <td>2017-02-18</td>\n",
              "      <td>2</td>\n",
              "      <td>[datetime.date(2017, 2, 17)]</td>\n",
              "      <td>male</td>\n",
              "      <td>T20</td>\n",
              "      <td>5.0</td>\n",
              "      <td>Sri Lanka</td>\n",
              "      <td>20</td>\n",
              "      <td>...</td>\n",
              "      <td>NaN</td>\n",
              "      <td>NaN</td>\n",
              "      <td>NaN</td>\n",
              "      <td>NaN</td>\n",
              "      <td>NaN</td>\n",
              "      <td>NaN</td>\n",
              "      <td>NaN</td>\n",
              "      <td>NaN</td>\n",
              "      <td>NaN</td>\n",
              "      <td>NaN</td>\n",
              "    </tr>\n",
              "    <tr>\n",
              "      <th>1</th>\n",
              "      <td>[{'1st innings': {'team': 'Australia', 'delive...</td>\n",
              "      <td>0.9</td>\n",
              "      <td>2017-02-19</td>\n",
              "      <td>2</td>\n",
              "      <td>[datetime.date(2017, 2, 19)]</td>\n",
              "      <td>male</td>\n",
              "      <td>T20</td>\n",
              "      <td>2.0</td>\n",
              "      <td>Sri Lanka</td>\n",
              "      <td>20</td>\n",
              "      <td>...</td>\n",
              "      <td>NaN</td>\n",
              "      <td>NaN</td>\n",
              "      <td>NaN</td>\n",
              "      <td>NaN</td>\n",
              "      <td>NaN</td>\n",
              "      <td>NaN</td>\n",
              "      <td>NaN</td>\n",
              "      <td>NaN</td>\n",
              "      <td>NaN</td>\n",
              "      <td>NaN</td>\n",
              "    </tr>\n",
              "  </tbody>\n",
              "</table>\n",
              "<p>2 rows × 27 columns</p>\n",
              "</div>\n",
              "      <button class=\"colab-df-convert\" onclick=\"convertToInteractive('df-9443eecd-82e1-4257-960f-b7e82b35b3ca')\"\n",
              "              title=\"Convert this dataframe to an interactive table.\"\n",
              "              style=\"display:none;\">\n",
              "        \n",
              "  <svg xmlns=\"http://www.w3.org/2000/svg\" height=\"24px\"viewBox=\"0 0 24 24\"\n",
              "       width=\"24px\">\n",
              "    <path d=\"M0 0h24v24H0V0z\" fill=\"none\"/>\n",
              "    <path d=\"M18.56 5.44l.94 2.06.94-2.06 2.06-.94-2.06-.94-.94-2.06-.94 2.06-2.06.94zm-11 1L8.5 8.5l.94-2.06 2.06-.94-2.06-.94L8.5 2.5l-.94 2.06-2.06.94zm10 10l.94 2.06.94-2.06 2.06-.94-2.06-.94-.94-2.06-.94 2.06-2.06.94z\"/><path d=\"M17.41 7.96l-1.37-1.37c-.4-.4-.92-.59-1.43-.59-.52 0-1.04.2-1.43.59L10.3 9.45l-7.72 7.72c-.78.78-.78 2.05 0 2.83L4 21.41c.39.39.9.59 1.41.59.51 0 1.02-.2 1.41-.59l7.78-7.78 2.81-2.81c.8-.78.8-2.07 0-2.86zM5.41 20L4 18.59l7.72-7.72 1.47 1.35L5.41 20z\"/>\n",
              "  </svg>\n",
              "      </button>\n",
              "      \n",
              "  <style>\n",
              "    .colab-df-container {\n",
              "      display:flex;\n",
              "      flex-wrap:wrap;\n",
              "      gap: 12px;\n",
              "    }\n",
              "\n",
              "    .colab-df-convert {\n",
              "      background-color: #E8F0FE;\n",
              "      border: none;\n",
              "      border-radius: 50%;\n",
              "      cursor: pointer;\n",
              "      display: none;\n",
              "      fill: #1967D2;\n",
              "      height: 32px;\n",
              "      padding: 0 0 0 0;\n",
              "      width: 32px;\n",
              "    }\n",
              "\n",
              "    .colab-df-convert:hover {\n",
              "      background-color: #E2EBFA;\n",
              "      box-shadow: 0px 1px 2px rgba(60, 64, 67, 0.3), 0px 1px 3px 1px rgba(60, 64, 67, 0.15);\n",
              "      fill: #174EA6;\n",
              "    }\n",
              "\n",
              "    [theme=dark] .colab-df-convert {\n",
              "      background-color: #3B4455;\n",
              "      fill: #D2E3FC;\n",
              "    }\n",
              "\n",
              "    [theme=dark] .colab-df-convert:hover {\n",
              "      background-color: #434B5C;\n",
              "      box-shadow: 0px 1px 3px 1px rgba(0, 0, 0, 0.15);\n",
              "      filter: drop-shadow(0px 1px 2px rgba(0, 0, 0, 0.3));\n",
              "      fill: #FFFFFF;\n",
              "    }\n",
              "  </style>\n",
              "\n",
              "      <script>\n",
              "        const buttonEl =\n",
              "          document.querySelector('#df-9443eecd-82e1-4257-960f-b7e82b35b3ca button.colab-df-convert');\n",
              "        buttonEl.style.display =\n",
              "          google.colab.kernel.accessAllowed ? 'block' : 'none';\n",
              "\n",
              "        async function convertToInteractive(key) {\n",
              "          const element = document.querySelector('#df-9443eecd-82e1-4257-960f-b7e82b35b3ca');\n",
              "          const dataTable =\n",
              "            await google.colab.kernel.invokeFunction('convertToInteractive',\n",
              "                                                     [key], {});\n",
              "          if (!dataTable) return;\n",
              "\n",
              "          const docLinkHtml = 'Like what you see? Visit the ' +\n",
              "            '<a target=\"_blank\" href=https://colab.research.google.com/notebooks/data_table.ipynb>data table notebook</a>'\n",
              "            + ' to learn more about interactive tables.';\n",
              "          element.innerHTML = '';\n",
              "          dataTable['output_type'] = 'display_data';\n",
              "          await google.colab.output.renderOutput(dataTable, element);\n",
              "          const docLink = document.createElement('div');\n",
              "          docLink.innerHTML = docLinkHtml;\n",
              "          element.appendChild(docLink);\n",
              "        }\n",
              "      </script>\n",
              "    </div>\n",
              "  </div>\n",
              "  "
            ]
          },
          "metadata": {},
          "execution_count": 11
        }
      ]
    },
    {
      "cell_type": "markdown",
      "source": [
        "**Calculating the top three venues which hosted the greatest number of matches.**"
      ],
      "metadata": {
        "id": "DV1MzOm5Y6cL"
      }
    },
    {
      "cell_type": "code",
      "source": [
        "x,y = np.unique(df['venue'],return_counts=True)\n",
        "sns.barplot(x,y)\n",
        "plt.rcParams['figure.figsize'] = (100,80)"
      ],
      "metadata": {
        "colab": {
          "base_uri": "https://localhost:8080/",
          "height": 750
        },
        "id": "KDSfrCk2YLPi",
        "outputId": "583fceab-52f1-47dd-d996-bffddbeaa2d0"
      },
      "execution_count": 13,
      "outputs": [
        {
          "output_type": "stream",
          "name": "stderr",
          "text": [
            "/usr/local/lib/python3.7/dist-packages/seaborn/_decorators.py:43: FutureWarning: Pass the following variables as keyword args: x, y. From version 0.12, the only valid positional argument will be `data`, and passing other arguments without an explicit keyword will result in an error or misinterpretation.\n",
            "  FutureWarning\n"
          ]
        },
        {
          "output_type": "display_data",
          "data": {
            "text/plain": [
              "<Figure size 7200x3600 with 1 Axes>"
            ],
            "image/png": "[encoded data removed]"
          },
          "metadata": {
            "needs_background": "light"
          }
        }
      ]
    },
    {
      "cell_type": "code",
      "source": [
        "#No. of times the venue repeated means it is the venue which hosted greatest no of matches\n",
        "venue_df = pd.DataFrame(df.groupby('venue')['venue'].count().sort_values(ascending = False)[0:3])"
      ],
      "metadata": {
        "id": "Ew9t7RUTYaIN"
      },
      "execution_count": 14,
      "outputs": []
    },
    {
      "cell_type": "code",
      "source": [
        "print(f\"the top three venues which hosted the greatest number of matches are \\n{venue_df['venue']}\")"
      ],
      "metadata": {
        "colab": {
          "base_uri": "https://localhost:8080/"
        },
        "id": "duueW5a-Yh4H",
        "outputId": "2cc9d5af-7e83-4fec-a1b1-0a0ec04c61fe"
      },
      "execution_count": 15,
      "outputs": [
        {
          "output_type": "stream",
          "name": "stdout",
          "text": [
            "the top three venues which hosted the greatest number of matches are \n",
            "venue\n",
            "Dubai International Cricket Stadium    62\n",
            "Sheikh Zayed Stadium                   41\n",
            "Shere Bangla National Stadium          39\n",
            "Name: venue, dtype: int64\n"
          ]
        }
      ]
    },
    {
      "cell_type": "markdown",
      "source": [
        "**Calculating the pair of cricket teams who played the most number of T20 matches against each other.**"
      ],
      "metadata": {
        "id": "hvUR2LvCYlgP"
      }
    },
    {
      "cell_type": "code",
      "source": [
        "df['team1'] = df['teams'].apply(lambda x : literal_eval(x)[0])\n",
        "df['team2'] = df['teams'].apply(lambda x : literal_eval(x)[1])"
      ],
      "metadata": {
        "id": "vmwtfBJ5ZF61"
      },
      "execution_count": 16,
      "outputs": []
    },
    {
      "cell_type": "code",
      "source": [
        "sns.jointplot( x = 'team1', y ='team2', data = df)\n",
        "sns.set(rc = {'figure.figsize':(100,50)})"
      ],
      "metadata": {
        "colab": {
          "base_uri": "https://localhost:8080/",
          "height": 441
        },
        "id": "r9A61qGGZJzK",
        "outputId": "d24a04f6-d933-4b29-c1c8-46acba43b99b"
      },
      "execution_count": 17,
      "outputs": [
        {
          "output_type": "display_data",
          "data": {
            "text/plain": [
              "<Figure size 432x432 with 3 Axes>"
            ],
            "image/png": "[encoded data removed]"
          },
          "metadata": {
            "needs_background": "light"
          }
        }
      ]
    },
    {
      "cell_type": "code",
      "source": [
        "def find_index(a,val):\n",
        "  for i in range(len(a)):\n",
        "    for j in range(len(a)):\n",
        "      if a[i,j]==val:\n",
        "        return i,j"
      ],
      "metadata": {
        "id": "t2qqFrREZPxb"
      },
      "execution_count": 18,
      "outputs": []
    },
    {
      "cell_type": "code",
      "source": [
        "#Sorting the list\n",
        "teams = sorted(list(set(df['team1'])|set(df['team2'])))"
      ],
      "metadata": {
        "id": "oWdIvo8SZSM9"
      },
      "execution_count": 19,
      "outputs": []
    },
    {
      "cell_type": "code",
      "source": [
        "match_matrix = np.zeros((len(teams),len(teams)),dtype=list)"
      ],
      "metadata": {
        "id": "wcbcTKiPZTe3"
      },
      "execution_count": 20,
      "outputs": []
    },
    {
      "cell_type": "code",
      "source": [
        "for i,row in df.iterrows():\n",
        "  match_matrix[teams.index(row['team1'])][teams.index(row['team2'])]+=1\n",
        "  match_matrix[teams.index(row['team2'])][teams.index(row['team1'])]+=1"
      ],
      "metadata": {
        "id": "oKNEYNriZWfw"
      },
      "execution_count": 21,
      "outputs": []
    },
    {
      "cell_type": "code",
      "source": [
        "#Calculate teams index\n",
        "teams_index = find_index(match_matrix, match_matrix.max())"
      ],
      "metadata": {
        "id": "ngbh0d3cZkvH"
      },
      "execution_count": 22,
      "outputs": []
    },
    {
      "cell_type": "code",
      "source": [
        "print(f'The pair of cricket teams who played the most number of T20 matches against each other are {teams[teams_index[0]]} and {teams[teams_index[-1]]} and they played a total of {match_matrix.max()} games')"
      ],
      "metadata": {
        "colab": {
          "base_uri": "https://localhost:8080/"
        },
        "id": "AC2rhIBNZnmD",
        "outputId": "5d95b2dc-3a08-46c2-85da-069f6f2af460"
      },
      "execution_count": 23,
      "outputs": [
        {
          "output_type": "stream",
          "name": "stdout",
          "text": [
            "The pair of cricket teams who played the most number of T20 matches against each other are Australia and England and they played a total of 45 games\n"
          ]
        }
      ]
    },
    {
      "cell_type": "markdown",
      "source": [
        "**Print the top five teams by their win percentages.Win percentage is defined as the number of matches won divided by the number of matches played and then multiplied by 100.** "
      ],
      "metadata": {
        "id": "i5eTjpUHZtlh"
      }
    },
    {
      "cell_type": "code",
      "source": [
        "#changing the 'teams' column from str to list type\n",
        "df['teams'] = df['teams'].apply(lambda x : literal_eval(x))"
      ],
      "metadata": {
        "id": "bRbT2lkjaDVg"
      },
      "execution_count": 24,
      "outputs": []
    },
    {
      "cell_type": "code",
      "source": [
        "#exploding\n",
        "top_5 = df.explode(\"teams\")[['teams','outcome_winner']]"
      ],
      "metadata": {
        "id": "XPkkzy9zaKU6"
      },
      "execution_count": 25,
      "outputs": []
    },
    {
      "cell_type": "code",
      "source": [
        "#creating new DF win percentage countries\n",
        "win_percentage_countries = pd.DataFrame(columns=['winning_percentage'])\n",
        "\n",
        "for i in top_5['teams'].unique():\n",
        "  win_percentage_countries.loc[i] = (list(top_5['outcome_winner']).count(i)/2)*100/list(top_5['teams']).count(i)"
      ],
      "metadata": {
        "id": "N47k5M0NaOpp"
      },
      "execution_count": 26,
      "outputs": []
    },
    {
      "cell_type": "code",
      "source": [
        "#soring the top 5 values in descending order\n",
        "win_percentage_countries.sort_values(\"winning_percentage\",ascending=False)[:5]"
      ],
      "metadata": {
        "colab": {
          "base_uri": "https://localhost:8080/",
          "height": 206
        },
        "id": "0kotx3BHaRWX",
        "outputId": "2dd80f54-7b85-4747-c7bc-bea874f5d921"
      },
      "execution_count": 27,
      "outputs": [
        {
          "output_type": "execute_result",
          "data": {
            "text/plain": [
              "             winning_percentage\n",
              "Belgium              100.000000\n",
              "Spain                 83.333333\n",
              "Germany               76.470588\n",
              "Namibia               73.529412\n",
              "Afghanistan           68.000000"
            ],
            "text/html": [
              "\n",
              "  <div id=\"df-b474fc8e-2add-4be0-9f6b-9aa57475d627\">\n",
              "    <div class=\"colab-df-container\">\n",
              "      <div>\n",
              "<style scoped>\n",
              "    .dataframe tbody tr th:only-of-type {\n",
              "        vertical-align: middle;\n",
              "    }\n",
              "\n",
              "    .dataframe tbody tr th {\n",
              "        vertical-align: top;\n",
              "    }\n",
              "\n",
              "    .dataframe thead th {\n",
              "        text-align: right;\n",
              "    }\n",
              "</style>\n",
              "<table border=\"1\" class=\"dataframe\">\n",
              "  <thead>\n",
              "    <tr style=\"text-align: right;\">\n",
              "      <th></th>\n",
              "      <th>winning_percentage</th>\n",
              "    </tr>\n",
              "  </thead>\n",
              "  <tbody>\n",
              "    <tr>\n",
              "      <th>Belgium</th>\n",
              "      <td>100.000000</td>\n",
              "    </tr>\n",
              "    <tr>\n",
              "      <th>Spain</th>\n",
              "      <td>83.333333</td>\n",
              "    </tr>\n",
              "    <tr>\n",
              "      <th>Germany</th>\n",
              "      <td>76.470588</td>\n",
              "    </tr>\n",
              "    <tr>\n",
              "      <th>Namibia</th>\n",
              "      <td>73.529412</td>\n",
              "    </tr>\n",
              "    <tr>\n",
              "      <th>Afghanistan</th>\n",
              "      <td>68.000000</td>\n",
              "    </tr>\n",
              "  </tbody>\n",
              "</table>\n",
              "</div>\n",
              "      <button class=\"colab-df-convert\" onclick=\"convertToInteractive('df-b474fc8e-2add-4be0-9f6b-9aa57475d627')\"\n",
              "              title=\"Convert this dataframe to an interactive table.\"\n",
              "              style=\"display:none;\">\n",
              "        \n",
              "  <svg xmlns=\"http://www.w3.org/2000/svg\" height=\"24px\"viewBox=\"0 0 24 24\"\n",
              "       width=\"24px\">\n",
              "    <path d=\"M0 0h24v24H0V0z\" fill=\"none\"/>\n",
              "    <path d=\"M18.56 5.44l.94 2.06.94-2.06 2.06-.94-2.06-.94-.94-2.06-.94 2.06-2.06.94zm-11 1L8.5 8.5l.94-2.06 2.06-.94-2.06-.94L8.5 2.5l-.94 2.06-2.06.94zm10 10l.94 2.06.94-2.06 2.06-.94-2.06-.94-.94-2.06-.94 2.06-2.06.94z\"/><path d=\"M17.41 7.96l-1.37-1.37c-.4-.4-.92-.59-1.43-.59-.52 0-1.04.2-1.43.59L10.3 9.45l-7.72 7.72c-.78.78-.78 2.05 0 2.83L4 21.41c.39.39.9.59 1.41.59.51 0 1.02-.2 1.41-.59l7.78-7.78 2.81-2.81c.8-.78.8-2.07 0-2.86zM5.41 20L4 18.59l7.72-7.72 1.47 1.35L5.41 20z\"/>\n",
              "  </svg>\n",
              "      </button>\n",
              "      \n",
              "  <style>\n",
              "    .colab-df-container {\n",
              "      display:flex;\n",
              "      flex-wrap:wrap;\n",
              "      gap: 12px;\n",
              "    }\n",
              "\n",
              "    .colab-df-convert {\n",
              "      background-color: #E8F0FE;\n",
              "      border: none;\n",
              "      border-radius: 50%;\n",
              "      cursor: pointer;\n",
              "      display: none;\n",
              "      fill: #1967D2;\n",
              "      height: 32px;\n",
              "      padding: 0 0 0 0;\n",
              "      width: 32px;\n",
              "    }\n",
              "\n",
              "    .colab-df-convert:hover {\n",
              "      background-color: #E2EBFA;\n",
              "      box-shadow: 0px 1px 2px rgba(60, 64, 67, 0.3), 0px 1px 3px 1px rgba(60, 64, 67, 0.15);\n",
              "      fill: #174EA6;\n",
              "    }\n",
              "\n",
              "    [theme=dark] .colab-df-convert {\n",
              "      background-color: #3B4455;\n",
              "      fill: #D2E3FC;\n",
              "    }\n",
              "\n",
              "    [theme=dark] .colab-df-convert:hover {\n",
              "      background-color: #434B5C;\n",
              "      box-shadow: 0px 1px 3px 1px rgba(0, 0, 0, 0.15);\n",
              "      filter: drop-shadow(0px 1px 2px rgba(0, 0, 0, 0.3));\n",
              "      fill: #FFFFFF;\n",
              "    }\n",
              "  </style>\n",
              "\n",
              "      <script>\n",
              "        const buttonEl =\n",
              "          document.querySelector('#df-b474fc8e-2add-4be0-9f6b-9aa57475d627 button.colab-df-convert');\n",
              "        buttonEl.style.display =\n",
              "          google.colab.kernel.accessAllowed ? 'block' : 'none';\n",
              "\n",
              "        async function convertToInteractive(key) {\n",
              "          const element = document.querySelector('#df-b474fc8e-2add-4be0-9f6b-9aa57475d627');\n",
              "          const dataTable =\n",
              "            await google.colab.kernel.invokeFunction('convertToInteractive',\n",
              "                                                     [key], {});\n",
              "          if (!dataTable) return;\n",
              "\n",
              "          const docLinkHtml = 'Like what you see? Visit the ' +\n",
              "            '<a target=\"_blank\" href=https://colab.research.google.com/notebooks/data_table.ipynb>data table notebook</a>'\n",
              "            + ' to learn more about interactive tables.';\n",
              "          element.innerHTML = '';\n",
              "          dataTable['output_type'] = 'display_data';\n",
              "          await google.colab.output.renderOutput(dataTable, element);\n",
              "          const docLink = document.createElement('div');\n",
              "          docLink.innerHTML = docLinkHtml;\n",
              "          element.appendChild(docLink);\n",
              "        }\n",
              "      </script>\n",
              "    </div>\n",
              "  </div>\n",
              "  "
            ]
          },
          "metadata": {},
          "execution_count": 27
        }
      ]
    },
    {
      "cell_type": "markdown",
      "source": [
        "**A function to get the scorecard of each match. This function would take the innings value as argument and return two scorecard dataframes each for one team as shown below. So the first dataframe would contain the top 4 scorers of the team who batted first and the top 4 bowlers of the opponent team. And the second dataframe would contain the top 4 scorers of the team who batted second and the top 4 bowlers of the opponent team.**"
      ],
      "metadata": {
        "id": "mF8G2zHJaWsr"
      }
    },
    {
      "cell_type": "code",
      "source": [
        "# top 4 scorers of first bat, top 4 bowlers opponenet team\n",
        "# top 4 scorers of second bat , top 4 bowlers opponenet team"
      ],
      "metadata": {
        "id": "oLvriLcDaeOU"
      },
      "execution_count": 28,
      "outputs": []
    },
    {
      "cell_type": "code",
      "source": [
        "def find_deliveries(lod):\n",
        "  keys = []\n",
        "  for i in lod:\n",
        "    keys += list(i.keys())\n",
        "  return keys"
      ],
      "metadata": {
        "id": "zk7yXgXzaknT"
      },
      "execution_count": 29,
      "outputs": []
    },
    {
      "cell_type": "code",
      "source": [
        "def generate_scorecard(lod):\n",
        "  scorecard = {}\n",
        "  delivery_list = find_deliveries(lod)\n",
        "  for ball,dic in zip(delivery_list,lod):\n",
        "    a = dic[ball]   # inner dictionary containing {batman,bowler,nonstricker, runs and wicket}\n",
        "    if a['batsman'] in scorecard.keys():\n",
        "      scorecard[a['batsman']]['Runs'] += a['runs']['batsman']\n",
        "      scorecard[a['batsman']]['Balls_Played'] += 1\n",
        "    else:\n",
        "      scorecard[a['batsman']] = {'Player': a['batsman'],'Runs':a ['runs']['batsman'], 'Balls_Played': 0, 'Balls_Bowled' :0,'Runs_given':0,'wicket':0}\n",
        "\n",
        "    #######\n",
        "\n",
        "    if a['non_striker'] not in scorecard.keys():\n",
        "      scorecard[a['non_striker']]={'Player': a['non_striker'],'Runs': 0, 'Balls_Played': 0, 'Balls_Bowled' :0,'Runs_given':0,'wicket':0}\n",
        "\n",
        "    #######\n",
        "\n",
        "    if a['bowler'] in scorecard.keys():\n",
        "      wicket = 0\n",
        "      if a.get('wicket'):\n",
        "        wicket =1\n",
        "      scorecard[a['bowler']]['Runs_given']+= a['runs']['total']\n",
        "      scorecard[a['bowler']]['Balls_Bowled']+= 1\n",
        "      scorecard[a['bowler']]['wicket']+= wicket\n",
        "    else:\n",
        "      wicket =0\n",
        "      if a.get('wicket'):\n",
        "        wicket = 1\n",
        "      scorecard[a['bowler']]={'Player': a['bowler'],'Runs': 0, 'Balls_Played': 0, 'Balls_Bowled' :1,'Runs_given':a['runs']['total'],'wicket': wicket}\n",
        "\n",
        "   #######\n",
        "  return pd.DataFrame(scorecard.values())"
      ],
      "metadata": {
        "id": "5OHlxjuEantP"
      },
      "execution_count": 30,
      "outputs": []
    },
    {
      "cell_type": "code",
      "source": [
        "def find_sr_and_economy(df):\n",
        "  df['Strike_Rate'] = np.nan\n",
        "  for i,row in df.iterrows():\n",
        "    if row['Balls_Played'] !=0:\n",
        "      df.loc[i,'Strike_Rate'] = round(row['Runs']/row['Balls_Played']*100)\n",
        "  df['Economy']= np.nan\n",
        "  for i,row in df.iterrows():\n",
        "    if row['Balls_Bowled']!=0:\n",
        "      df.loc[i,\"Economy\"] = round(row['Runs_given']/row['Balls_Bowled']*6,2)\n",
        "\n",
        "  return df"
      ],
      "metadata": {
        "id": "8WGKc8EBaxIp"
      },
      "execution_count": 31,
      "outputs": []
    },
    {
      "cell_type": "code",
      "source": [
        "def find_top_scorers(innings):\n",
        "  '''\n",
        "  Input innings as string\n",
        "  '''\n",
        "  df1 = generate_scorecard(eval(innings)[0]['1st innings']['deliveries'])\n",
        "  df2 = generate_scorecard(eval(innings)[1]['2nd innings']['deliveries'])\n",
        "  df1 = find_sr_and_economy(df1)\n",
        "  df2 = find_sr_and_economy(df2)\n",
        "  temp1_sr = df1.sort_values(by = [\"Runs\",\"Strike_Rate\"],ascending = [False,False])[:4]\n",
        "  temp1_ec = df1.sort_values(by = \"Economy\")[:4]\n",
        "  temp2_sr = df2.sort_values(by = [\"Runs\",\"Strike_Rate\"],ascending = [False,False])[:4]\n",
        "  temp2_ec = df2.sort_values(by = \"Economy\")[:4]\n",
        "  df1 = temp1_sr.append(temp1_ec).reset_index().drop('index',axis=1)\n",
        "  df2 = temp2_sr.append(temp2_ec).reset_index().drop('index',axis=1)\n",
        "  return df1,df2"
      ],
      "metadata": {
        "id": "L0KF-taMaz0P"
      },
      "execution_count": 32,
      "outputs": []
    },
    {
      "cell_type": "code",
      "source": [
        "#Store the find top scoreres in df1 and df2\n",
        "df1,df2 = find_top_scorers(df.iloc[10,0])"
      ],
      "metadata": {
        "id": "jASAy_EYa2iI"
      },
      "execution_count": 33,
      "outputs": []
    },
    {
      "cell_type": "code",
      "source": [
        "print(\"The top Players Scorecard 1st Inning\")\n",
        "df1\n"
      ],
      "metadata": {
        "colab": {
          "base_uri": "https://localhost:8080/",
          "height": 318
        },
        "id": "Wt9_OBy8a5Ky",
        "outputId": "94db6694-7e9a-4d46-f6ef-7b5935eb0122"
      },
      "execution_count": 35,
      "outputs": [
        {
          "output_type": "stream",
          "name": "stdout",
          "text": [
            "The top Players Scorecard 1st Inning\n"
          ]
        },
        {
          "output_type": "execute_result",
          "data": {
            "text/plain": [
              "            Player  Runs  Balls_Played  Balls_Bowled  Runs_given  wicket  \\\n",
              "0          HM Amla    62            43             0           0       0   \n",
              "1     F du Plessis    36            25             0           0       0   \n",
              "2        JP Duminy    29            16             0           0       0   \n",
              "3   AB de Villiers    26            16             0           0       0   \n",
              "4         TA Boult     0             0            24          12       2   \n",
              "5  C de Grandhomme     0             0            19          22       2   \n",
              "6       MJ Santner     0             0            24          44       0   \n",
              "7          C Munro     0             0             6          11       0   \n",
              "\n",
              "   Strike_Rate  Economy  \n",
              "0        144.0      NaN  \n",
              "1        144.0      NaN  \n",
              "2        181.0      NaN  \n",
              "3        162.0      NaN  \n",
              "4          NaN     3.00  \n",
              "5          NaN     6.95  \n",
              "6          NaN    11.00  \n",
              "7          NaN    11.00  "
            ],
            "text/html": [
              "\n",
              "  <div id=\"df-adc3f0df-8b2e-464b-9285-cbd19c82e1cf\">\n",
              "    <div class=\"colab-df-container\">\n",
              "      <div>\n",
              "<style scoped>\n",
              "    .dataframe tbody tr th:only-of-type {\n",
              "        vertical-align: middle;\n",
              "    }\n",
              "\n",
              "    .dataframe tbody tr th {\n",
              "        vertical-align: top;\n",
              "    }\n",
              "\n",
              "    .dataframe thead th {\n",
              "        text-align: right;\n",
              "    }\n",
              "</style>\n",
              "<table border=\"1\" class=\"dataframe\">\n",
              "  <thead>\n",
              "    <tr style=\"text-align: right;\">\n",
              "      <th></th>\n",
              "      <th>Player</th>\n",
              "      <th>Runs</th>\n",
              "      <th>Balls_Played</th>\n",
              "      <th>Balls_Bowled</th>\n",
              "      <th>Runs_given</th>\n",
              "      <th>wicket</th>\n",
              "      <th>Strike_Rate</th>\n",
              "      <th>Economy</th>\n",
              "    </tr>\n",
              "  </thead>\n",
              "  <tbody>\n",
              "    <tr>\n",
              "      <th>0</th>\n",
              "      <td>HM Amla</td>\n",
              "      <td>62</td>\n",
              "      <td>43</td>\n",
              "      <td>0</td>\n",
              "      <td>0</td>\n",
              "      <td>0</td>\n",
              "      <td>144.0</td>\n",
              "      <td>NaN</td>\n",
              "    </tr>\n",
              "    <tr>\n",
              "      <th>1</th>\n",
              "      <td>F du Plessis</td>\n",
              "      <td>36</td>\n",
              "      <td>25</td>\n",
              "      <td>0</td>\n",
              "      <td>0</td>\n",
              "      <td>0</td>\n",
              "      <td>144.0</td>\n",
              "      <td>NaN</td>\n",
              "    </tr>\n",
              "    <tr>\n",
              "      <th>2</th>\n",
              "      <td>JP Duminy</td>\n",
              "      <td>29</td>\n",
              "      <td>16</td>\n",
              "      <td>0</td>\n",
              "      <td>0</td>\n",
              "      <td>0</td>\n",
              "      <td>181.0</td>\n",
              "      <td>NaN</td>\n",
              "    </tr>\n",
              "    <tr>\n",
              "      <th>3</th>\n",
              "      <td>AB de Villiers</td>\n",
              "      <td>26</td>\n",
              "      <td>16</td>\n",
              "      <td>0</td>\n",
              "      <td>0</td>\n",
              "      <td>0</td>\n",
              "      <td>162.0</td>\n",
              "      <td>NaN</td>\n",
              "    </tr>\n",
              "    <tr>\n",
              "      <th>4</th>\n",
              "      <td>TA Boult</td>\n",
              "      <td>0</td>\n",
              "      <td>0</td>\n",
              "      <td>24</td>\n",
              "      <td>12</td>\n",
              "      <td>2</td>\n",
              "      <td>NaN</td>\n",
              "      <td>3.00</td>\n",
              "    </tr>\n",
              "    <tr>\n",
              "      <th>5</th>\n",
              "      <td>C de Grandhomme</td>\n",
              "      <td>0</td>\n",
              "      <td>0</td>\n",
              "      <td>19</td>\n",
              "      <td>22</td>\n",
              "      <td>2</td>\n",
              "      <td>NaN</td>\n",
              "      <td>6.95</td>\n",
              "    </tr>\n",
              "    <tr>\n",
              "      <th>6</th>\n",
              "      <td>MJ Santner</td>\n",
              "      <td>0</td>\n",
              "      <td>0</td>\n",
              "      <td>24</td>\n",
              "      <td>44</td>\n",
              "      <td>0</td>\n",
              "      <td>NaN</td>\n",
              "      <td>11.00</td>\n",
              "    </tr>\n",
              "    <tr>\n",
              "      <th>7</th>\n",
              "      <td>C Munro</td>\n",
              "      <td>0</td>\n",
              "      <td>0</td>\n",
              "      <td>6</td>\n",
              "      <td>11</td>\n",
              "      <td>0</td>\n",
              "      <td>NaN</td>\n",
              "      <td>11.00</td>\n",
              "    </tr>\n",
              "  </tbody>\n",
              "</table>\n",
              "</div>\n",
              "      <button class=\"colab-df-convert\" onclick=\"convertToInteractive('df-adc3f0df-8b2e-464b-9285-cbd19c82e1cf')\"\n",
              "              title=\"Convert this dataframe to an interactive table.\"\n",
              "              style=\"display:none;\">\n",
              "        \n",
              "  <svg xmlns=\"http://www.w3.org/2000/svg\" height=\"24px\"viewBox=\"0 0 24 24\"\n",
              "       width=\"24px\">\n",
              "    <path d=\"M0 0h24v24H0V0z\" fill=\"none\"/>\n",
              "    <path d=\"M18.56 5.44l.94 2.06.94-2.06 2.06-.94-2.06-.94-.94-2.06-.94 2.06-2.06.94zm-11 1L8.5 8.5l.94-2.06 2.06-.94-2.06-.94L8.5 2.5l-.94 2.06-2.06.94zm10 10l.94 2.06.94-2.06 2.06-.94-2.06-.94-.94-2.06-.94 2.06-2.06.94z\"/><path d=\"M17.41 7.96l-1.37-1.37c-.4-.4-.92-.59-1.43-.59-.52 0-1.04.2-1.43.59L10.3 9.45l-7.72 7.72c-.78.78-.78 2.05 0 2.83L4 21.41c.39.39.9.59 1.41.59.51 0 1.02-.2 1.41-.59l7.78-7.78 2.81-2.81c.8-.78.8-2.07 0-2.86zM5.41 20L4 18.59l7.72-7.72 1.47 1.35L5.41 20z\"/>\n",
              "  </svg>\n",
              "      </button>\n",
              "      \n",
              "  <style>\n",
              "    .colab-df-container {\n",
              "      display:flex;\n",
              "      flex-wrap:wrap;\n",
              "      gap: 12px;\n",
              "    }\n",
              "\n",
              "    .colab-df-convert {\n",
              "      background-color: #E8F0FE;\n",
              "      border: none;\n",
              "      border-radius: 50%;\n",
              "      cursor: pointer;\n",
              "      display: none;\n",
              "      fill: #1967D2;\n",
              "      height: 32px;\n",
              "      padding: 0 0 0 0;\n",
              "      width: 32px;\n",
              "    }\n",
              "\n",
              "    .colab-df-convert:hover {\n",
              "      background-color: #E2EBFA;\n",
              "      box-shadow: 0px 1px 2px rgba(60, 64, 67, 0.3), 0px 1px 3px 1px rgba(60, 64, 67, 0.15);\n",
              "      fill: #174EA6;\n",
              "    }\n",
              "\n",
              "    [theme=dark] .colab-df-convert {\n",
              "      background-color: #3B4455;\n",
              "      fill: #D2E3FC;\n",
              "    }\n",
              "\n",
              "    [theme=dark] .colab-df-convert:hover {\n",
              "      background-color: #434B5C;\n",
              "      box-shadow: 0px 1px 3px 1px rgba(0, 0, 0, 0.15);\n",
              "      filter: drop-shadow(0px 1px 2px rgba(0, 0, 0, 0.3));\n",
              "      fill: #FFFFFF;\n",
              "    }\n",
              "  </style>\n",
              "\n",
              "      <script>\n",
              "        const buttonEl =\n",
              "          document.querySelector('#df-adc3f0df-8b2e-464b-9285-cbd19c82e1cf button.colab-df-convert');\n",
              "        buttonEl.style.display =\n",
              "          google.colab.kernel.accessAllowed ? 'block' : 'none';\n",
              "\n",
              "        async function convertToInteractive(key) {\n",
              "          const element = document.querySelector('#df-adc3f0df-8b2e-464b-9285-cbd19c82e1cf');\n",
              "          const dataTable =\n",
              "            await google.colab.kernel.invokeFunction('convertToInteractive',\n",
              "                                                     [key], {});\n",
              "          if (!dataTable) return;\n",
              "\n",
              "          const docLinkHtml = 'Like what you see? Visit the ' +\n",
              "            '<a target=\"_blank\" href=https://colab.research.google.com/notebooks/data_table.ipynb>data table notebook</a>'\n",
              "            + ' to learn more about interactive tables.';\n",
              "          element.innerHTML = '';\n",
              "          dataTable['output_type'] = 'display_data';\n",
              "          await google.colab.output.renderOutput(dataTable, element);\n",
              "          const docLink = document.createElement('div');\n",
              "          docLink.innerHTML = docLinkHtml;\n",
              "          element.appendChild(docLink);\n",
              "        }\n",
              "      </script>\n",
              "    </div>\n",
              "  </div>\n",
              "  "
            ]
          },
          "metadata": {},
          "execution_count": 35
        }
      ]
    },
    {
      "cell_type": "code",
      "source": [
        "print(\"The top Players Scorecard 2nd Inning\")\n",
        "df2"
      ],
      "metadata": {
        "colab": {
          "base_uri": "https://localhost:8080/",
          "height": 318
        },
        "id": "HCZD5yEza_as",
        "outputId": "526e0ca9-e475-4349-df5e-cdb355464869"
      },
      "execution_count": 36,
      "outputs": [
        {
          "output_type": "stream",
          "name": "stdout",
          "text": [
            "The top Players Scorecard 2nd Inning\n"
          ]
        },
        {
          "output_type": "execute_result",
          "data": {
            "text/plain": [
              "            Player  Runs  Balls_Played  Balls_Bowled  Runs_given  wicket  \\\n",
              "0         TC Bruce    33            26             0           0       0   \n",
              "1       TG Southee    20             6             0           0       0   \n",
              "2  C de Grandhomme    15             8             0           0       0   \n",
              "3    KS Williamson    13            14             0           0       0   \n",
              "4        CH Morris     0             0            18          10       2   \n",
              "5   AL Phehlukwayo     0             0            19          19       3   \n",
              "6      Imran Tahir     0             0            23          24       5   \n",
              "7       D Paterson     0             0            12          14       0   \n",
              "\n",
              "   Strike_Rate  Economy  \n",
              "0        127.0      NaN  \n",
              "1        333.0      NaN  \n",
              "2        188.0      NaN  \n",
              "3         93.0      NaN  \n",
              "4          NaN     3.33  \n",
              "5          NaN     6.00  \n",
              "6          NaN     6.26  \n",
              "7          NaN     7.00  "
            ],
            "text/html": [
              "\n",
              "  <div id=\"df-de8ca7fb-b610-43aa-a5a1-8d4024deab9b\">\n",
              "    <div class=\"colab-df-container\">\n",
              "      <div>\n",
              "<style scoped>\n",
              "    .dataframe tbody tr th:only-of-type {\n",
              "        vertical-align: middle;\n",
              "    }\n",
              "\n",
              "    .dataframe tbody tr th {\n",
              "        vertical-align: top;\n",
              "    }\n",
              "\n",
              "    .dataframe thead th {\n",
              "        text-align: right;\n",
              "    }\n",
              "</style>\n",
              "<table border=\"1\" class=\"dataframe\">\n",
              "  <thead>\n",
              "    <tr style=\"text-align: right;\">\n",
              "      <th></th>\n",
              "      <th>Player</th>\n",
              "      <th>Runs</th>\n",
              "      <th>Balls_Played</th>\n",
              "      <th>Balls_Bowled</th>\n",
              "      <th>Runs_given</th>\n",
              "      <th>wicket</th>\n",
              "      <th>Strike_Rate</th>\n",
              "      <th>Economy</th>\n",
              "    </tr>\n",
              "  </thead>\n",
              "  <tbody>\n",
              "    <tr>\n",
              "      <th>0</th>\n",
              "      <td>TC Bruce</td>\n",
              "      <td>33</td>\n",
              "      <td>26</td>\n",
              "      <td>0</td>\n",
              "      <td>0</td>\n",
              "      <td>0</td>\n",
              "      <td>127.0</td>\n",
              "      <td>NaN</td>\n",
              "    </tr>\n",
              "    <tr>\n",
              "      <th>1</th>\n",
              "      <td>TG Southee</td>\n",
              "      <td>20</td>\n",
              "      <td>6</td>\n",
              "      <td>0</td>\n",
              "      <td>0</td>\n",
              "      <td>0</td>\n",
              "      <td>333.0</td>\n",
              "      <td>NaN</td>\n",
              "    </tr>\n",
              "    <tr>\n",
              "      <th>2</th>\n",
              "      <td>C de Grandhomme</td>\n",
              "      <td>15</td>\n",
              "      <td>8</td>\n",
              "      <td>0</td>\n",
              "      <td>0</td>\n",
              "      <td>0</td>\n",
              "      <td>188.0</td>\n",
              "      <td>NaN</td>\n",
              "    </tr>\n",
              "    <tr>\n",
              "      <th>3</th>\n",
              "      <td>KS Williamson</td>\n",
              "      <td>13</td>\n",
              "      <td>14</td>\n",
              "      <td>0</td>\n",
              "      <td>0</td>\n",
              "      <td>0</td>\n",
              "      <td>93.0</td>\n",
              "      <td>NaN</td>\n",
              "    </tr>\n",
              "    <tr>\n",
              "      <th>4</th>\n",
              "      <td>CH Morris</td>\n",
              "      <td>0</td>\n",
              "      <td>0</td>\n",
              "      <td>18</td>\n",
              "      <td>10</td>\n",
              "      <td>2</td>\n",
              "      <td>NaN</td>\n",
              "      <td>3.33</td>\n",
              "    </tr>\n",
              "    <tr>\n",
              "      <th>5</th>\n",
              "      <td>AL Phehlukwayo</td>\n",
              "      <td>0</td>\n",
              "      <td>0</td>\n",
              "      <td>19</td>\n",
              "      <td>19</td>\n",
              "      <td>3</td>\n",
              "      <td>NaN</td>\n",
              "      <td>6.00</td>\n",
              "    </tr>\n",
              "    <tr>\n",
              "      <th>6</th>\n",
              "      <td>Imran Tahir</td>\n",
              "      <td>0</td>\n",
              "      <td>0</td>\n",
              "      <td>23</td>\n",
              "      <td>24</td>\n",
              "      <td>5</td>\n",
              "      <td>NaN</td>\n",
              "      <td>6.26</td>\n",
              "    </tr>\n",
              "    <tr>\n",
              "      <th>7</th>\n",
              "      <td>D Paterson</td>\n",
              "      <td>0</td>\n",
              "      <td>0</td>\n",
              "      <td>12</td>\n",
              "      <td>14</td>\n",
              "      <td>0</td>\n",
              "      <td>NaN</td>\n",
              "      <td>7.00</td>\n",
              "    </tr>\n",
              "  </tbody>\n",
              "</table>\n",
              "</div>\n",
              "      <button class=\"colab-df-convert\" onclick=\"convertToInteractive('df-de8ca7fb-b610-43aa-a5a1-8d4024deab9b')\"\n",
              "              title=\"Convert this dataframe to an interactive table.\"\n",
              "              style=\"display:none;\">\n",
              "        \n",
              "  <svg xmlns=\"http://www.w3.org/2000/svg\" height=\"24px\"viewBox=\"0 0 24 24\"\n",
              "       width=\"24px\">\n",
              "    <path d=\"M0 0h24v24H0V0z\" fill=\"none\"/>\n",
              "    <path d=\"M18.56 5.44l.94 2.06.94-2.06 2.06-.94-2.06-.94-.94-2.06-.94 2.06-2.06.94zm-11 1L8.5 8.5l.94-2.06 2.06-.94-2.06-.94L8.5 2.5l-.94 2.06-2.06.94zm10 10l.94 2.06.94-2.06 2.06-.94-2.06-.94-.94-2.06-.94 2.06-2.06.94z\"/><path d=\"M17.41 7.96l-1.37-1.37c-.4-.4-.92-.59-1.43-.59-.52 0-1.04.2-1.43.59L10.3 9.45l-7.72 7.72c-.78.78-.78 2.05 0 2.83L4 21.41c.39.39.9.59 1.41.59.51 0 1.02-.2 1.41-.59l7.78-7.78 2.81-2.81c.8-.78.8-2.07 0-2.86zM5.41 20L4 18.59l7.72-7.72 1.47 1.35L5.41 20z\"/>\n",
              "  </svg>\n",
              "      </button>\n",
              "      \n",
              "  <style>\n",
              "    .colab-df-container {\n",
              "      display:flex;\n",
              "      flex-wrap:wrap;\n",
              "      gap: 12px;\n",
              "    }\n",
              "\n",
              "    .colab-df-convert {\n",
              "      background-color: #E8F0FE;\n",
              "      border: none;\n",
              "      border-radius: 50%;\n",
              "      cursor: pointer;\n",
              "      display: none;\n",
              "      fill: #1967D2;\n",
              "      height: 32px;\n",
              "      padding: 0 0 0 0;\n",
              "      width: 32px;\n",
              "    }\n",
              "\n",
              "    .colab-df-convert:hover {\n",
              "      background-color: #E2EBFA;\n",
              "      box-shadow: 0px 1px 2px rgba(60, 64, 67, 0.3), 0px 1px 3px 1px rgba(60, 64, 67, 0.15);\n",
              "      fill: #174EA6;\n",
              "    }\n",
              "\n",
              "    [theme=dark] .colab-df-convert {\n",
              "      background-color: #3B4455;\n",
              "      fill: #D2E3FC;\n",
              "    }\n",
              "\n",
              "    [theme=dark] .colab-df-convert:hover {\n",
              "      background-color: #434B5C;\n",
              "      box-shadow: 0px 1px 3px 1px rgba(0, 0, 0, 0.15);\n",
              "      filter: drop-shadow(0px 1px 2px rgba(0, 0, 0, 0.3));\n",
              "      fill: #FFFFFF;\n",
              "    }\n",
              "  </style>\n",
              "\n",
              "      <script>\n",
              "        const buttonEl =\n",
              "          document.querySelector('#df-de8ca7fb-b610-43aa-a5a1-8d4024deab9b button.colab-df-convert');\n",
              "        buttonEl.style.display =\n",
              "          google.colab.kernel.accessAllowed ? 'block' : 'none';\n",
              "\n",
              "        async function convertToInteractive(key) {\n",
              "          const element = document.querySelector('#df-de8ca7fb-b610-43aa-a5a1-8d4024deab9b');\n",
              "          const dataTable =\n",
              "            await google.colab.kernel.invokeFunction('convertToInteractive',\n",
              "                                                     [key], {});\n",
              "          if (!dataTable) return;\n",
              "\n",
              "          const docLinkHtml = 'Like what you see? Visit the ' +\n",
              "            '<a target=\"_blank\" href=https://colab.research.google.com/notebooks/data_table.ipynb>data table notebook</a>'\n",
              "            + ' to learn more about interactive tables.';\n",
              "          element.innerHTML = '';\n",
              "          dataTable['output_type'] = 'display_data';\n",
              "          await google.colab.output.renderOutput(dataTable, element);\n",
              "          const docLink = document.createElement('div');\n",
              "          docLink.innerHTML = docLinkHtml;\n",
              "          element.appendChild(docLink);\n",
              "        }\n",
              "      </script>\n",
              "    </div>\n",
              "  </div>\n",
              "  "
            ]
          },
          "metadata": {},
          "execution_count": 36
        }
      ]
    }
  ]
}